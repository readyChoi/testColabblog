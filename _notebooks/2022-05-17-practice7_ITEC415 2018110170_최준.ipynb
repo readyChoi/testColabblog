{
  "cells": [
    {
      "cell_type": "markdown",
      "metadata": {},
      "source": [
        "# \"제목!!\"\n",
        "> \"요약!!\"\n",
        "\n",
        "- toc:true\n",
        "- branch: master\n",
        "- badges: true\n",
        "- comments: true\n",
        "- author: 고급문제해결\n",
        "- categories: [jupyter, algorithms]"
      ]
    },
    {
      "cell_type": "markdown",
      "metadata": {
        "id": "wx2yJ--dDOiy"
      },
      "source": [
        "# Practice #7\n",
        "\n",
        "## 1. 그래프에서 출발점과 도착점 사이의 경로가 존재하는지 DFS를 이용하여 확인하기\n",
        "\n",
        "0에서 n-1까지 레이블이 지정된 n개의 노드 그래프에서, edge[i] = [u_i, v_i]인 비방향성 edge 목록이 주어졌을 때, 출발점과 도착점 사이의 경로가 존재하는지 DFS를 이용하여 판별하세요.\n",
        "\n",
        "* 예제 1\n",
        "  - Input: n = 3, edges = [[0,1],[1,2],[2,0]], source = 0, destination = 2\n",
        "  - Output: true\n",
        "\n",
        "* 예제 2\n",
        "  - Input: n = 6, edges = [[0,1],[0,2],[3,5],[5,4],[4,3]], source = 0, destination = 5\n",
        "  - Output: false\n",
        "\n",
        "\n",
        "\n",
        "\n",
        "\n"
      ]
    },
    {
      "cell_type": "code",
      "execution_count": 25,
      "metadata": {
        "id": "Ez04dwhdrM7d"
      },
      "outputs": [],
      "source": [
        "def check_dfs(n, edges, source, destination):\n",
        "    checkList = list(False for _ in range(n)) # 방문하지 상태면 false로 해주기\n",
        "    checkStack = list()\n",
        "    checkStack.append(source) # stack에 source 넣어주기\n",
        "    checkList[source] = True\n",
        "    while checkStack != []: # stack이 빌때까지\n",
        "        stackNum = checkStack.pop()\n",
        "        for i in range(len(edges)):\n",
        "            if edges[i][0] == stackNum:\n",
        "                if checkList[edges[i][1]] == False: # 아직 방문하지 않았을때\n",
        "                    checkList[edges[i][1]] = True\n",
        "                    checkStack.append(edges[i][1])\n",
        "            elif edges[i][1] == stackNum:\n",
        "                if checkList[edges[i][0]] == False: # 아직 방문하지 않았을때\n",
        "                    checkList[edges[i][0]] = True\n",
        "                    checkStack.append(edges[i][0])\n",
        "\n",
        "    return checkList[destination]"
      ]
    },
    {
      "cell_type": "code",
      "execution_count": 27,
      "metadata": {},
      "outputs": [
        {
          "data": {
            "text/plain": [
              "True"
            ]
          },
          "execution_count": 27,
          "metadata": {},
          "output_type": "execute_result"
        }
      ],
      "source": [
        "check_dfs(n = 3, edges = [[0,1],[1,2],[2,0]], source = 0, destination = 2)"
      ]
    },
    {
      "cell_type": "code",
      "execution_count": 26,
      "metadata": {},
      "outputs": [
        {
          "data": {
            "text/plain": [
              "False"
            ]
          },
          "execution_count": 26,
          "metadata": {},
          "output_type": "execute_result"
        }
      ],
      "source": [
        "check_dfs(n = 6, edges = [[0,1],[0,2],[3,5],[5,4],[4,3]], source = 0, destination = 5)"
      ]
    },
    {
      "cell_type": "markdown",
      "metadata": {
        "id": "tXe5gSpA-iQ3"
      },
      "source": [
        "## 2. 출발점에서 도착점까지의 경로 출력하기\n",
        "\n",
        "방향성 그래프의 인접 리스트가 주어졌을 때, 출발점에서 도착점까지의 경로를 찾으세요.\n",
        "\n",
        "* 예제 1\n",
        "  - Input: adj_list = [[1,2],[3],[3],[]]\n",
        "  - Output: [[0,1,3],[0,2,3]]\n",
        "\n",
        "* 예제 2\n",
        "  - Input: adj_list = [[4,3,1],[3,2,4],[3],[4],[]]\n",
        "  - Output: [[0,4],[0,3,4],[0,1,3,4],[0,1,2,3,4],[0,1,4]]\n",
        "\n",
        "\n"
      ]
    },
    {
      "cell_type": "code",
      "execution_count": 12,
      "metadata": {
        "id": "PuBUiIhR_WRd"
      },
      "outputs": [],
      "source": [
        "def print_paths(adj_list):\n",
        "    output = list()\n",
        "    path = list()\n",
        "    check = list(0 for _ in range(len(adj_list)))\n",
        "\n",
        "    def rec_path(cur): # 재귀적으로 target까지 찾기\n",
        "        path.append(cur)\n",
        "        check[cur] = 1\n",
        "        if cur == len(adj_list)-1:\n",
        "            return output.append(path[::]) # 지금까지 path를 output에 넣어주기\n",
        "        for i in adj_list[cur]:\n",
        "            if check[i] != 1: # circle로 무한 loop 제거\n",
        "                rec_path(i)\n",
        "                path.pop()\n",
        "                check[i] = 0\n",
        "\n",
        "    rec_path(0)\n",
        "\n",
        "    return output"
      ]
    },
    {
      "cell_type": "code",
      "execution_count": 17,
      "metadata": {},
      "outputs": [
        {
          "data": {
            "text/plain": [
              "[[0, 1, 3], [0, 2, 3]]"
            ]
          },
          "execution_count": 17,
          "metadata": {},
          "output_type": "execute_result"
        }
      ],
      "source": [
        "print_paths([[1,2],[3],[3],[]])"
      ]
    },
    {
      "cell_type": "code",
      "execution_count": 16,
      "metadata": {},
      "outputs": [
        {
          "data": {
            "text/plain": [
              "[[0, 4], [0, 3, 4], [0, 1, 3, 4], [0, 1, 2, 3, 4], [0, 1, 4]]"
            ]
          },
          "execution_count": 16,
          "metadata": {},
          "output_type": "execute_result"
        }
      ],
      "source": [
        "print_paths([[4,3,1],[3,2,4],[3],[4],[]])"
      ]
    },
    {
      "cell_type": "markdown",
      "metadata": {
        "id": "hPfsOIVN8vmw"
      },
      "source": [
        "## 3. 모든 점을 연결하는 최소 비용 구하기\n",
        "\n",
        "2차원 좌표계에서, points[i] = [x_i, y_i]로 좌표로 표현되는 모든 점을 연결하는 최소 비용을 구하세요. 점 사이의 비용은 맨해튼 거리로 가정합니다.\n",
        "\n",
        "* 예제 1\n",
        "  - Input: points = [[0,0],[2,2],[3,10],[5,2],[7,0]]\n",
        "  - Output: 20\n",
        "\n",
        "* 예제 2\n",
        "  - Input: points = [[3,12],[-2,5],[-4,1]]\n",
        "  - Output: 18\n",
        "\n"
      ]
    },
    {
      "cell_type": "code",
      "execution_count": 46,
      "metadata": {
        "id": "O-zQGWW5AA4O"
      },
      "outputs": [],
      "source": [
        "def man_distance(a, b): # 맨허튼 거리 구하기\n",
        "    return abs(a[0]-b[0]) + abs(a[1]-b[1])\n",
        "\n",
        "def min_spanning_tree(points):\n",
        "    checkDict = dict()\n",
        "\n",
        "    for i in range(1, len(points)): # 맨허튼 거리 초기화 해서 넣어주기\n",
        "        checkDict[i] = man_distance(points[0], points[i])\n",
        "\n",
        "    pathSum = 0\n",
        "\n",
        "    while checkDict != {}:\n",
        "        minNum = 999\n",
        "        for i in checkDict: # 맨허튼 거리중 가장 작은 값 찾아주기\n",
        "            if minNum > checkDict[i]:\n",
        "                minNum = checkDict[i]\n",
        "                minIndex = i\n",
        "        pathSum = pathSum + minNum\n",
        "        checkDict.pop(minIndex)\n",
        "\n",
        "        for i in checkDict: # 맨허튼 거리 다시 설정해주기\n",
        "            if man_distance(points[minIndex], points[i]) < checkDict[i]:\n",
        "                checkDict[i] = man_distance(points[minIndex], points[i])\n",
        "\n",
        "    return pathSum"
      ]
    },
    {
      "cell_type": "code",
      "execution_count": 47,
      "metadata": {},
      "outputs": [
        {
          "data": {
            "text/plain": [
              "20"
            ]
          },
          "execution_count": 47,
          "metadata": {},
          "output_type": "execute_result"
        }
      ],
      "source": [
        "min_spanning_tree([[0,0],[2,2],[3,10],[5,2],[7,0]])"
      ]
    },
    {
      "cell_type": "code",
      "execution_count": 48,
      "metadata": {},
      "outputs": [
        {
          "data": {
            "text/plain": [
              "18"
            ]
          },
          "execution_count": 48,
          "metadata": {},
          "output_type": "execute_result"
        }
      ],
      "source": [
        "min_spanning_tree([[3,12],[-2,5],[-4,1]])"
      ]
    }
  ],
  "metadata": {
    "colab": {
      "collapsed_sections": [],
      "name": "practice7_ITEC415.ipynb",
      "provenance": []
    },
    "kernelspec": {
      "display_name": "Python 3",
      "name": "python3"
    },
    "language_info": {
      "codemirror_mode": {
        "name": "ipython",
        "version": 3
      },
      "file_extension": ".py",
      "mimetype": "text/x-python",
      "name": "python",
      "nbconvert_exporter": "python",
      "pygments_lexer": "ipython3",
      "version": "3.10.2"
    }
  },
  "nbformat": 4,
  "nbformat_minor": 0
}
